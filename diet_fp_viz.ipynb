{
 "cells": [
  {
   "cell_type": "code",
   "execution_count": 2,
   "id": "428f7a28",
   "metadata": {},
   "outputs": [],
   "source": [
    "#Importing pandas and data \n",
    "import pandas as pd\n",
    "df = pd.read_csv('rand_footprints.csv')"
   ]
  },
  {
   "cell_type": "code",
   "execution_count": 3,
   "id": "4bdf063f",
   "metadata": {},
   "outputs": [],
   "source": [
    "#Groups data by country and output group\n",
    "grouped = df.groupby(['country','output_group'])\n",
    "# Sums the diet footprint of each gorup, then makes a dataframe of the aggregate values\n",
    "df2 = grouped['diet_footprint'].sum().to_frame(name='summed_footprint')\n",
    "# Creates csv with aggregate data to be vizualized in tableau\n",
    "df2.to_csv('summed_footprints.csv')"
   ]
  },
  {
   "cell_type": "markdown",
   "id": "fdc0e3d1",
   "metadata": {},
   "source": [
    "# Vizualization can be found at https://public.tableau.com/app/profile/andres.covarrubias1754/viz/Diet_footprint_viz/Sheet1"
   ]
  }
 ],
 "metadata": {
  "kernelspec": {
   "display_name": "Python 3 (ipykernel)",
   "language": "python",
   "name": "python3"
  },
  "language_info": {
   "codemirror_mode": {
    "name": "ipython",
    "version": 3
   },
   "file_extension": ".py",
   "mimetype": "text/x-python",
   "name": "python",
   "nbconvert_exporter": "python",
   "pygments_lexer": "ipython3",
   "version": "3.8.8"
  }
 },
 "nbformat": 4,
 "nbformat_minor": 5
}
